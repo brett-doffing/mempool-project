{
 "cells": [
  {
   "cell_type": "code",
   "execution_count": 1,
   "metadata": {},
   "outputs": [],
   "source": [
    "import pandas as pd\n",
    "import matplotlib.pyplot as plt\n",
    "import numpy as np\n",
    "import pathlib\n",
    "import datetime  \n",
    "from time import process_time\n",
    "import xgboost as xgb\n",
    "from sklearn.model_selection import RandomizedSearchCV, GridSearchCV, train_test_split \n",
    "from sklearn.multioutput import MultiOutputRegressor \n",
    "from sklearn.metrics import mean_absolute_error\n",
    "from sklearn.inspection import permutation_importance"
   ]
  },
  {
   "cell_type": "code",
   "execution_count": 2,
   "metadata": {},
   "outputs": [
    {
     "name": "stdout",
     "output_type": "stream",
     "text": [
      "(3049, 15)\n"
     ]
    },
    {
     "data": {
      "text/html": [
       "<div>\n",
       "<style scoped>\n",
       "    .dataframe tbody tr th:only-of-type {\n",
       "        vertical-align: middle;\n",
       "    }\n",
       "\n",
       "    .dataframe tbody tr th {\n",
       "        vertical-align: top;\n",
       "    }\n",
       "\n",
       "    .dataframe thead th {\n",
       "        text-align: right;\n",
       "    }\n",
       "</style>\n",
       "<table border=\"1\" class=\"dataframe\">\n",
       "  <thead>\n",
       "    <tr style=\"text-align: right;\">\n",
       "      <th></th>\n",
       "      <th>next_block_mean_fee</th>\n",
       "      <th>hour_mean_fee</th>\n",
       "      <th>six_hour_mean_fee</th>\n",
       "      <th>day_mean_fee</th>\n",
       "      <th>time_btwn_blocks</th>\n",
       "      <th>next_block_sat/vB</th>\n",
       "      <th>hour_block_sat/vB</th>\n",
       "      <th>six_hour_block_sat/vB</th>\n",
       "      <th>day_block_sat/vB</th>\n",
       "      <th>mempool_mean_fee</th>\n",
       "      <th>mempool_mean_vBytes</th>\n",
       "      <th>month</th>\n",
       "      <th>day</th>\n",
       "      <th>hour</th>\n",
       "      <th>minute</th>\n",
       "    </tr>\n",
       "    <tr>\n",
       "      <th>height</th>\n",
       "      <th></th>\n",
       "      <th></th>\n",
       "      <th></th>\n",
       "      <th></th>\n",
       "      <th></th>\n",
       "      <th></th>\n",
       "      <th></th>\n",
       "      <th></th>\n",
       "      <th></th>\n",
       "      <th></th>\n",
       "      <th></th>\n",
       "      <th></th>\n",
       "      <th></th>\n",
       "      <th></th>\n",
       "      <th></th>\n",
       "    </tr>\n",
       "  </thead>\n",
       "  <tbody>\n",
       "    <tr>\n",
       "      <th>664549</th>\n",
       "      <td>33980.465150</td>\n",
       "      <td>11384.315789</td>\n",
       "      <td>9187.204423</td>\n",
       "      <td>8829.081983</td>\n",
       "      <td>401.667629</td>\n",
       "      <td>19.756141</td>\n",
       "      <td>9.881303</td>\n",
       "      <td>8.250000</td>\n",
       "      <td>8.212914</td>\n",
       "      <td>0.000107</td>\n",
       "      <td>95.017185</td>\n",
       "      <td>1</td>\n",
       "      <td>4</td>\n",
       "      <td>18</td>\n",
       "      <td>43</td>\n",
       "    </tr>\n",
       "    <tr>\n",
       "      <th>664550</th>\n",
       "      <td>29661.188679</td>\n",
       "      <td>11332.593466</td>\n",
       "      <td>8521.071743</td>\n",
       "      <td>8693.173920</td>\n",
       "      <td>121.387896</td>\n",
       "      <td>19.803509</td>\n",
       "      <td>8.021448</td>\n",
       "      <td>7.628581</td>\n",
       "      <td>7.691099</td>\n",
       "      <td>0.000088</td>\n",
       "      <td>100.031976</td>\n",
       "      <td>1</td>\n",
       "      <td>4</td>\n",
       "      <td>18</td>\n",
       "      <td>45</td>\n",
       "    </tr>\n",
       "    <tr>\n",
       "      <th>664551</th>\n",
       "      <td>25751.310393</td>\n",
       "      <td>8703.527446</td>\n",
       "      <td>8196.988623</td>\n",
       "      <td>7633.777096</td>\n",
       "      <td>617.352392</td>\n",
       "      <td>19.788886</td>\n",
       "      <td>11.670282</td>\n",
       "      <td>7.505360</td>\n",
       "      <td>7.504585</td>\n",
       "      <td>0.000098</td>\n",
       "      <td>95.282053</td>\n",
       "      <td>1</td>\n",
       "      <td>4</td>\n",
       "      <td>18</td>\n",
       "      <td>55</td>\n",
       "    </tr>\n",
       "    <tr>\n",
       "      <th>664552</th>\n",
       "      <td>11928.250000</td>\n",
       "      <td>10031.604167</td>\n",
       "      <td>8043.711520</td>\n",
       "      <td>7179.456915</td>\n",
       "      <td>111.200127</td>\n",
       "      <td>12.671680</td>\n",
       "      <td>6.616592</td>\n",
       "      <td>6.490284</td>\n",
       "      <td>6.503805</td>\n",
       "      <td>0.000076</td>\n",
       "      <td>105.228578</td>\n",
       "      <td>1</td>\n",
       "      <td>4</td>\n",
       "      <td>18</td>\n",
       "      <td>57</td>\n",
       "    </tr>\n",
       "    <tr>\n",
       "      <th>664553</th>\n",
       "      <td>28603.645748</td>\n",
       "      <td>11213.539877</td>\n",
       "      <td>7928.369882</td>\n",
       "      <td>1.000000</td>\n",
       "      <td>872.896248</td>\n",
       "      <td>19.857541</td>\n",
       "      <td>19.775785</td>\n",
       "      <td>4.443284</td>\n",
       "      <td>1.000000</td>\n",
       "      <td>0.000106</td>\n",
       "      <td>102.803255</td>\n",
       "      <td>1</td>\n",
       "      <td>4</td>\n",
       "      <td>19</td>\n",
       "      <td>12</td>\n",
       "    </tr>\n",
       "  </tbody>\n",
       "</table>\n",
       "</div>"
      ],
      "text/plain": [
       "        next_block_mean_fee  hour_mean_fee  six_hour_mean_fee  day_mean_fee  \\\n",
       "height                                                                        \n",
       "664549         33980.465150   11384.315789        9187.204423   8829.081983   \n",
       "664550         29661.188679   11332.593466        8521.071743   8693.173920   \n",
       "664551         25751.310393    8703.527446        8196.988623   7633.777096   \n",
       "664552         11928.250000   10031.604167        8043.711520   7179.456915   \n",
       "664553         28603.645748   11213.539877        7928.369882      1.000000   \n",
       "\n",
       "        time_btwn_blocks  next_block_sat/vB  hour_block_sat/vB  \\\n",
       "height                                                           \n",
       "664549        401.667629          19.756141           9.881303   \n",
       "664550        121.387896          19.803509           8.021448   \n",
       "664551        617.352392          19.788886          11.670282   \n",
       "664552        111.200127          12.671680           6.616592   \n",
       "664553        872.896248          19.857541          19.775785   \n",
       "\n",
       "        six_hour_block_sat/vB  day_block_sat/vB  mempool_mean_fee  \\\n",
       "height                                                              \n",
       "664549               8.250000          8.212914          0.000107   \n",
       "664550               7.628581          7.691099          0.000088   \n",
       "664551               7.505360          7.504585          0.000098   \n",
       "664552               6.490284          6.503805          0.000076   \n",
       "664553               4.443284          1.000000          0.000106   \n",
       "\n",
       "        mempool_mean_vBytes  month  day  hour  minute  \n",
       "height                                                 \n",
       "664549            95.017185      1    4    18      43  \n",
       "664550           100.031976      1    4    18      45  \n",
       "664551            95.282053      1    4    18      55  \n",
       "664552           105.228578      1    4    18      57  \n",
       "664553           102.803255      1    4    19      12  "
      ]
     },
     "execution_count": 2,
     "metadata": {},
     "output_type": "execute_result"
    }
   ],
   "source": [
    "blocks_df = pd.read_csv('pool_blocks_2.csv', index_col='height')\n",
    "print(blocks_df.shape)\n",
    "blocks_df.tail()"
   ]
  },
  {
   "cell_type": "markdown",
   "metadata": {},
   "source": [
    "# Split Data"
   ]
  },
  {
   "cell_type": "code",
   "execution_count": 3,
   "metadata": {},
   "outputs": [],
   "source": [
    "# satoshis per virtual byte\n",
    "target = ['next_block_sat/vB', 'hour_block_sat/vB', 'six_hour_block_sat/vB', 'day_block_sat/vB'] \n",
    "y = blocks_df[target]\n",
    "X = blocks_df.drop(columns=target)"
   ]
  },
  {
   "cell_type": "code",
   "execution_count": 4,
   "metadata": {},
   "outputs": [],
   "source": [
    "X_train, X_test, y_train, y_test = train_test_split(X,y,train_size=0.8,random_state=42)\n",
    "\n",
    "assert len(X_train) + len(X_test) == len(X)"
   ]
  },
  {
   "cell_type": "markdown",
   "metadata": {},
   "source": [
    "# Baseline"
   ]
  },
  {
   "cell_type": "code",
   "execution_count": 5,
   "metadata": {},
   "outputs": [
    {
     "name": "stdout",
     "output_type": "stream",
     "text": [
      "Baseline MAE: [7.23462807 9.17287839 5.11920087 2.67068187]\n"
     ]
    }
   ],
   "source": [
    "y_pred = [y_train.mean()] * len(y_train)\n",
    "\n",
    "print('Baseline MAE:', mean_absolute_error(y_train, y_pred, multioutput='raw_values'))"
   ]
  },
  {
   "cell_type": "markdown",
   "metadata": {},
   "source": [
    "# Model"
   ]
  },
  {
   "cell_type": "code",
   "execution_count": 6,
   "metadata": {},
   "outputs": [],
   "source": [
    "xgb_more = MultiOutputRegressor(xgb.XGBRegressor(objective ='reg:squarederror', seed = 42))"
   ]
  },
  {
   "cell_type": "code",
   "execution_count": 7,
   "metadata": {},
   "outputs": [],
   "source": [
    "param_dist = {\"estimator__n_estimators\" : range(75, 200, 25),\n",
    "             \"estimator__subsample\" : np.arange(0.5, 1.0, 0.1),\n",
    "             \"estimator__max_depth\" : range(2, 6, 1)}\n",
    "\n",
    "cv_model = RandomizedSearchCV(\n",
    "    xgb_more,\n",
    "    param_distributions=param_dist,\n",
    "    cv=5,\n",
    "    n_jobs=-1,\n",
    "    n_iter=50\n",
    ")\n",
    "\n",
    "# cv_model = GridSearchCV(\n",
    "#     xgb_more,\n",
    "#     param_grid=param_dist,\n",
    "#     cv=5,\n",
    "#     n_jobs=-1,\n",
    "#     verbose=1\n",
    "# )\n",
    "\n",
    "cv_model.fit(X_train, y_train);"
   ]
  },
  {
   "cell_type": "code",
   "execution_count": 8,
   "metadata": {},
   "outputs": [
    {
     "data": {
      "text/plain": [
       "{'estimator__subsample': 0.8999999999999999,\n",
       " 'estimator__n_estimators': 75,\n",
       " 'estimator__max_depth': 5}"
      ]
     },
     "execution_count": 8,
     "metadata": {},
     "output_type": "execute_result"
    }
   ],
   "source": [
    "cv_model.best_params_"
   ]
  },
  {
   "cell_type": "markdown",
   "metadata": {},
   "source": [
    "# Metrics"
   ]
  },
  {
   "cell_type": "code",
   "execution_count": 9,
   "metadata": {},
   "outputs": [
    {
     "name": "stdout",
     "output_type": "stream",
     "text": [
      "Training MAE: [1.1658414  1.84030962 0.35672489 0.12263735]\n",
      "Test MAE: [3.01844642 4.32106921 1.24775473 0.48603203]\n"
     ]
    }
   ],
   "source": [
    "print('Training MAE:', mean_absolute_error(y_train, cv_model.predict(X_train), multioutput='raw_values'))\n",
    "print('Test MAE:', mean_absolute_error(y_test, cv_model.predict(X_test), multioutput='raw_values'))\n",
    "\n",
    "# Grid\n",
    "# Training MAE: [1.1658414  1.84030962 0.35672489 0.12263735]\n",
    "# Test MAE: [3.01844642 4.32106921 1.24775473 0.48603203]\n",
    "\n",
    "# 10\n",
    "# Training MAE: [0.60933472 0.98675779 0.17975069 0.06058145]\n",
    "# Test MAE: [3.03491914 4.62674619 1.2299598  0.47650211]"
   ]
  },
  {
   "cell_type": "code",
   "execution_count": 10,
   "metadata": {},
   "outputs": [
    {
     "data": {
      "text/html": [
       "<div>\n",
       "<style scoped>\n",
       "    .dataframe tbody tr th:only-of-type {\n",
       "        vertical-align: middle;\n",
       "    }\n",
       "\n",
       "    .dataframe tbody tr th {\n",
       "        vertical-align: top;\n",
       "    }\n",
       "\n",
       "    .dataframe thead th {\n",
       "        text-align: right;\n",
       "    }\n",
       "</style>\n",
       "<table border=\"1\" class=\"dataframe\">\n",
       "  <thead>\n",
       "    <tr style=\"text-align: right;\">\n",
       "      <th></th>\n",
       "      <th>importances_mean</th>\n",
       "      <th>importances_std</th>\n",
       "    </tr>\n",
       "  </thead>\n",
       "  <tbody>\n",
       "    <tr>\n",
       "      <th>six_hour_mean_fee</th>\n",
       "      <td>0.384138</td>\n",
       "      <td>0.018795</td>\n",
       "    </tr>\n",
       "    <tr>\n",
       "      <th>day_mean_fee</th>\n",
       "      <td>0.333376</td>\n",
       "      <td>0.013001</td>\n",
       "    </tr>\n",
       "    <tr>\n",
       "      <th>time_btwn_blocks</th>\n",
       "      <td>0.222768</td>\n",
       "      <td>0.017883</td>\n",
       "    </tr>\n",
       "    <tr>\n",
       "      <th>mempool_mean_fee</th>\n",
       "      <td>0.191023</td>\n",
       "      <td>0.018065</td>\n",
       "    </tr>\n",
       "    <tr>\n",
       "      <th>day</th>\n",
       "      <td>0.162706</td>\n",
       "      <td>0.009587</td>\n",
       "    </tr>\n",
       "    <tr>\n",
       "      <th>mempool_mean_vBytes</th>\n",
       "      <td>0.088564</td>\n",
       "      <td>0.008068</td>\n",
       "    </tr>\n",
       "    <tr>\n",
       "      <th>next_block_mean_fee</th>\n",
       "      <td>0.069326</td>\n",
       "      <td>0.004500</td>\n",
       "    </tr>\n",
       "    <tr>\n",
       "      <th>hour_mean_fee</th>\n",
       "      <td>0.062814</td>\n",
       "      <td>0.003200</td>\n",
       "    </tr>\n",
       "    <tr>\n",
       "      <th>hour</th>\n",
       "      <td>0.019266</td>\n",
       "      <td>0.002247</td>\n",
       "    </tr>\n",
       "    <tr>\n",
       "      <th>month</th>\n",
       "      <td>0.003345</td>\n",
       "      <td>0.000510</td>\n",
       "    </tr>\n",
       "    <tr>\n",
       "      <th>minute</th>\n",
       "      <td>0.000689</td>\n",
       "      <td>0.002413</td>\n",
       "    </tr>\n",
       "  </tbody>\n",
       "</table>\n",
       "</div>"
      ],
      "text/plain": [
       "                     importances_mean  importances_std\n",
       "six_hour_mean_fee            0.384138         0.018795\n",
       "day_mean_fee                 0.333376         0.013001\n",
       "time_btwn_blocks             0.222768         0.017883\n",
       "mempool_mean_fee             0.191023         0.018065\n",
       "day                          0.162706         0.009587\n",
       "mempool_mean_vBytes          0.088564         0.008068\n",
       "next_block_mean_fee          0.069326         0.004500\n",
       "hour_mean_fee                0.062814         0.003200\n",
       "hour                         0.019266         0.002247\n",
       "month                        0.003345         0.000510\n",
       "minute                       0.000689         0.002413"
      ]
     },
     "execution_count": 10,
     "metadata": {},
     "output_type": "execute_result"
    }
   ],
   "source": [
    "perm = permutation_importance(cv_model, X_test, y_test, n_jobs=-1, random_state=42)\n",
    "\n",
    "data = {\n",
    "    'importances_mean' : perm['importances_mean'],\n",
    "    'importances_std' : perm['importances_std']\n",
    "}\n",
    "\n",
    "permutation_importances = pd.DataFrame(data, index=X_test.columns).sort_values(by='importances_mean', ascending=False)\n",
    "permutation_importances"
   ]
  }
 ],
 "metadata": {
  "kernelspec": {
   "display_name": "Python 3",
   "language": "python",
   "name": "python3"
  },
  "language_info": {
   "codemirror_mode": {
    "name": "ipython",
    "version": 3
   },
   "file_extension": ".py",
   "mimetype": "text/x-python",
   "name": "python",
   "nbconvert_exporter": "python",
   "pygments_lexer": "ipython3",
   "version": "3.6.9"
  }
 },
 "nbformat": 4,
 "nbformat_minor": 4
}
